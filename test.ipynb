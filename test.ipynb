{
 "cells": [
  {
   "cell_type": "code",
   "execution_count": 1,
   "metadata": {},
   "outputs": [],
   "source": [
    "from engine.engine import Engine\n",
    "\n",
    "\n",
    "class CapuletEngine(Engine):\n",
    "    def __init__(self, current_mileage, last_service_mileage):\n",
    "        self.current_mileage = current_mileage\n",
    "        self.last_service_mileage = last_service_mileage\n",
    "\n",
    "    def needs_service(self):\n",
    "        return self.current_mileage - self.last_service_mileage > 30000\n"
   ]
  },
  {
   "cell_type": "code",
   "execution_count": null,
   "metadata": {},
   "outputs": [],
   "source": [
    "import datetime\n",
    "\n",
    "today = datetime.today().date()\n",
    "last_service_date = today.replace(year=today.year - 1)\n",
    "current_mileage = 0\n",
    "last_service_mileage = 0\n",
    "engine = CapuletEngine()"
   ]
  }
 ],
 "metadata": {
  "kernelspec": {
   "display_name": "Python 3",
   "language": "python",
   "name": "python3"
  },
  "language_info": {
   "codemirror_mode": {
    "name": "ipython",
    "version": 3
   },
   "file_extension": ".py",
   "mimetype": "text/x-python",
   "name": "python",
   "nbconvert_exporter": "python",
   "pygments_lexer": "ipython3",
   "version": "3.10.12"
  },
  "orig_nbformat": 4
 },
 "nbformat": 4,
 "nbformat_minor": 2
}
